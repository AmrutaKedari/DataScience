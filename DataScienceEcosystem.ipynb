{
 "cells": [
  {
   "cell_type": "markdown",
   "id": "f401eba4-9a5b-42d8-a949-b6c090f80ab1",
   "metadata": {},
   "source": [
    "# Data Science Tools and Ecosystem\n"
   ]
  },
  {
   "cell_type": "markdown",
   "id": "fdd9c06a-41a6-4c1f-8c21-4ae84c389f7d",
   "metadata": {},
   "source": [
    "# Data Science Tools and Ecosystem\n"
   ]
  },
  {
   "cell_type": "markdown",
   "id": "0d4f5281-b76b-40e6-8ce8-815e45b19850",
   "metadata": {},
   "source": [
    "In this notebook, Data Science Tools and Ecosystem are summarized.\n"
   ]
  },
  {
   "cell_type": "markdown",
   "id": "a1a779c6-cb89-4435-a2fe-b4f78f3050cd",
   "metadata": {},
   "source": [
    "Some of the popular languages that Data Scientists use are:\n",
    "\n",
    "1. Python\n",
    "2. R\n",
    "3. SQL\n",
    "4. Julia\n",
    "5. Scala\n"
   ]
  },
  {
   "cell_type": "markdown",
   "id": "1b6cd3d6-a4e6-4a6e-b3e1-ca151a22979f",
   "metadata": {},
   "source": [
    "Some of the commonly used libraries used by Data Scientists include:\n",
    "\n",
    "1. Pandas\n",
    "2. NumPy\n",
    "3. Matplotlib\n",
    "4. Scikit-learn\n",
    "5. TensorFlow\n"
   ]
  },
  {
   "cell_type": "markdown",
   "id": "b5d7f234-975c-47d9-a886-8918ecad17a9",
   "metadata": {},
   "source": [
    "| Data Science Tools |\n",
    "|--------------------|\n",
    "| Jupyter Notebook   |\n",
    "| RStudio            |\n",
    "| Apache Zeppelin    |\n"
   ]
  },
  {
   "cell_type": "markdown",
   "id": "e071c49d-4f69-4b3b-ad89-aa5a88e05e85",
   "metadata": {},
   "source": [
    "### Below are a few examples of evaluating arithmetic expressions in Python."
   ]
  },
  {
   "cell_type": "code",
   "execution_count": 2,
   "id": "bb7e0bee-cafb-4388-a889-fb52b6da3888",
   "metadata": {},
   "outputs": [
    {
     "data": {
      "text/plain": [
       "17"
      ]
     },
     "execution_count": 2,
     "metadata": {},
     "output_type": "execute_result"
    }
   ],
   "source": [
    "# This a simple arithmetic expression to multiply then add integers\n",
    "(3*4) + 5"
   ]
  },
  {
   "cell_type": "code",
   "execution_count": 3,
   "id": "235f77a9-6383-4c39-850b-3a5ef9b5d042",
   "metadata": {},
   "outputs": [
    {
     "data": {
      "text/plain": [
       "3.3333333333333335"
      ]
     },
     "execution_count": 3,
     "metadata": {},
     "output_type": "execute_result"
    }
   ],
   "source": [
    "# This will convert 200 minutes to hours by dividing by 60\n",
    "200 / 60"
   ]
  },
  {
   "cell_type": "markdown",
   "id": "d8118fcd-d26f-46ed-be8b-0855785347c6",
   "metadata": {},
   "source": [
    "Objectives:\n",
    "- List popular languages for Data Science\n",
    "- List commonly used libraries for Data Science\n",
    "- Create tables using Markdown\n",
    "- Perform basic arithmetic operations using Python\n",
    "- Convert units (minutes to hours) in Python\n"
   ]
  },
  {
   "cell_type": "markdown",
   "id": "ab2f181e-b912-4a05-8bdb-969e4c688a2d",
   "metadata": {},
   "source": [
    "# Author\n",
    "Amruta Kedari\n"
   ]
  }
 ],
 "metadata": {
  "kernelspec": {
   "display_name": "Python 3 (ipykernel)",
   "language": "python",
   "name": "python3"
  },
  "language_info": {
   "codemirror_mode": {
    "name": "ipython",
    "version": 3
   },
   "file_extension": ".py",
   "mimetype": "text/x-python",
   "name": "python",
   "nbconvert_exporter": "python",
   "pygments_lexer": "ipython3",
   "version": "3.13.5"
  }
 },
 "nbformat": 4,
 "nbformat_minor": 5
}
